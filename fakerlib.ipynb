{
 "cells": [
  {
   "cell_type": "code",
   "execution_count": 1,
   "id": "b62842d8-0ef6-4241-8044-4cc956fa0b73",
   "metadata": {
    "tags": []
   },
   "outputs": [
    {
     "name": "stdout",
     "output_type": "stream",
     "text": [
      "Fake data generated and saved to 'doctors_data.csv'\n"
     ]
    }
   ],
   "source": []
  },
  {
   "cell_type": "code",
   "execution_count": 2,
   "id": "68403b46-2cd9-4da0-a2c9-f997b2d9c952",
   "metadata": {
    "tags": []
   },
   "outputs": [
    {
     "name": "stdout",
     "output_type": "stream",
     "text": [
      "Fake data generated and saved to 'doctors_data_1000.csv'\n"
     ]
    }
   ],
   "source": [
    "from faker import Faker\n",
    "import pandas as pd\n",
    "import random\n",
    "\n",
    "# Initialize the Faker object\n",
    "fake = Faker()\n",
    "\n",
    "# Define specializations and departments\n",
    "specializations = ['Cardiology', 'Neurology', 'Orthopedics', 'Pediatrics', 'Dermatology']\n",
    "departments = ['Cardiology', 'Neurology', 'Orthopedics', 'Pediatrics', 'Dermatology']\n",
    "\n",
    "# Generate fake data\n",
    "data = []\n",
    "for doctor_id in range(1, 1001):  # Generating data for 1000 doctors\n",
    "    doctor_name = fake.name()\n",
    "    specialization = random.choice(specializations)\n",
    "    department = specialization  # Assuming each specialization has a corresponding department\n",
    "    today_patient = random.randint(0, 20)  # Random number of patients for today\n",
    "    next_visit_date = fake.date_this_month(after_today=True)  # Random future date within this month\n",
    "    schedule = f\"{fake.date()} {fake.time()}\"  # Random date and time for schedule\n",
    "    show_appointment = fake.boolean()  # Random boolean value for show appointment\n",
    "    next_appointment_date = fake.date_this_year(after_today=True)  # Random future date within this year\n",
    "    patient_visit = fake.boolean()  # Random boolean value for patient visit\n",
    "\n",
    "    data.append({\n",
    "        'Doctor ID': doctor_id,\n",
    "        'Doctor Name': doctor_name,\n",
    "        'Specialization': specialization,\n",
    "        'Department': department,\n",
    "        'Today Patient': today_patient,\n",
    "        'Next Visit Date': next_visit_date,\n",
    "        'My Schedule': schedule,\n",
    "        'Show Appointment': show_appointment,\n",
    "        'Next Appointment': next_appointment_date,\n",
    "        'Patient Visit or Not': patient_visit\n",
    "    })\n",
    "\n",
    "# Create a DataFrame\n",
    "df = pd.DataFrame(data)\n",
    "\n",
    "# Save to CSV\n",
    "df.to_csv('doctors_data_1000.csv', index=False)\n",
    "\n",
    "print(\"Fake data generated and saved to 'doctors_data_1000.csv'\")\n"
   ]
  },
  {
   "cell_type": "code",
   "execution_count": 3,
   "id": "a60cb8dd-836a-41df-a3e0-d1b8693b1b23",
   "metadata": {
    "tags": []
   },
   "outputs": [
    {
     "name": "stdout",
     "output_type": "stream",
     "text": [
      "Fake data generated and saved to 'patients_data_1000.csv'\n"
     ]
    }
   ],
   "source": [
    "from faker import Faker\n",
    "import pandas as pd\n",
    "import random\n",
    "\n",
    "# Initialize the Faker object\n",
    "fake = Faker()\n",
    "\n",
    "# Define age categories\n",
    "age_categories = {\n",
    "    'Child': (0, 12),\n",
    "    'Young': (13, 35),\n",
    "    'Middle-aged': (36, 55),\n",
    "    'Old': (56, 90)\n",
    "}\n",
    "\n",
    "def get_age_category(age):\n",
    "    if age <= 12:\n",
    "        return 'Child'\n",
    "    elif age <= 35:\n",
    "        return 'Young'\n",
    "    elif age <= 55:\n",
    "        return 'Middle-aged'\n",
    "    else:\n",
    "        return 'Old'\n",
    "\n",
    "# Generate fake data\n",
    "data = []\n",
    "for patient_id in range(1, 1001):  # Generating data for 1000 patients\n",
    "    name = fake.name()\n",
    "    age = random.randint(0, 90)  # Age between 0 and 90\n",
    "    gender = random.choice(['Male', 'Female'])\n",
    "    uhid = fake.uuid4()\n",
    "    phone_number = fake.phone_number()\n",
    "    address = {\n",
    "        'House Number': fake.building_number(),\n",
    "        'City': fake.city(),\n",
    "        'State': fake.state()\n",
    "    }\n",
    "    tpa = random.choice(['Yes', 'No'])\n",
    "    marital_status = random.choice(['Single', 'Married', 'Divorced', 'Widowed'])\n",
    "    age_category = get_age_category(age)\n",
    "\n",
    "    data.append({\n",
    "        'Patient ID': patient_id,\n",
    "        'Name': name,\n",
    "        'Age': age,\n",
    "        'Gender': gender,\n",
    "        'UHID': uhid,\n",
    "        'Phone Number': phone_number,\n",
    "        'House Number': address['House Number'],\n",
    "        'City': address['City'],\n",
    "        'State': address['State'],\n",
    "        'TPA': tpa,\n",
    "        'Marital Status': marital_status,\n",
    "        'Age Category': age_category\n",
    "    })\n",
    "\n",
    "# Create a DataFrame\n",
    "df = pd.DataFrame(data)\n",
    "\n",
    "# Save to CSV\n",
    "df.to_csv('patients_data_1000.csv', index=False)\n",
    "\n",
    "print(\"Fake data generated and saved to 'patients_data_1000.csv'\")\n"
   ]
  },
  {
   "cell_type": "code",
   "execution_count": 4,
   "id": "d9622160-67f4-4341-a265-c16451c42ce9",
   "metadata": {
    "tags": []
   },
   "outputs": [
    {
     "name": "stdout",
     "output_type": "stream",
     "text": [
      "Fake data generated and saved to 'patients_data_1000.csv'\n"
     ]
    }
   ],
   "source": [
    "from faker import Faker\n",
    "import pandas as pd\n",
    "import random\n",
    "\n",
    "# Initialize the Faker object\n",
    "fake = Faker()\n",
    "\n",
    "# Define age categories\n",
    "age_categories = {\n",
    "    'Child': (0, 12),\n",
    "    'Young': (13, 35),\n",
    "    'Middle-aged': (36, 55),\n",
    "    'Old': (56, 90)\n",
    "}\n",
    "\n",
    "def get_age_category(age):\n",
    "    if age <= 12:\n",
    "        return 'Child'\n",
    "    elif age <= 35:\n",
    "        return 'Young'\n",
    "    elif age <= 55:\n",
    "        return 'Middle-aged'\n",
    "    else:\n",
    "        return 'Old'\n",
    "\n",
    "# Generate fake data\n",
    "data = []\n",
    "for patient_id in range(1, 1001):  # Generating data for 1000 patients\n",
    "    name = fake.name()\n",
    "    age = random.randint(0, 90)  # Age between 0 and 90\n",
    "    gender = random.choice(['Male', 'Female'])\n",
    "    uhid = fake.uuid4()\n",
    "    phone_number = fake.phone_number()\n",
    "    address = {\n",
    "        'House Number': fake.building_number(),\n",
    "        'City': fake.city(),\n",
    "        'State': fake.state()\n",
    "    }\n",
    "    tpa = random.choice(['Yes', 'No'])\n",
    "    marital_status = random.choice(['Single', 'Married', 'Divorced', 'Widowed'])\n",
    "    age_category = get_age_category(age)\n",
    "    appointment_date = fake.date_this_month(before_today=True)  # Random past date within this month\n",
    "    appointment_time = fake.time()  # Random time for appointment\n",
    "    next_appointment_date = fake.date_this_month(after_today=True)  # Random future date within this month\n",
    "    next_appointment_time = fake.time()  # Random time for next appointment\n",
    "\n",
    "    data.append({\n",
    "        'Patient ID': patient_id,\n",
    "        'Name': name,\n",
    "        'Age': age,\n",
    "        'Gender': gender,\n",
    "        'UHID': uhid,\n",
    "        'Phone Number': phone_number,\n",
    "        'House Number': address['House Number'],\n",
    "        'City': address['City'],\n",
    "        'State': address['State'],\n",
    "        'TPA': tpa,\n",
    "        'Marital Status': marital_status,\n",
    "        'Age Category': age_category,\n",
    "        'Appointment Date': appointment_date,\n",
    "        'Appointment Time': appointment_time,\n",
    "        'Next Appointment Date': next_appointment_date,\n",
    "        'Next Appointment Time': next_appointment_time\n",
    "    })\n",
    "\n",
    "# Create a DataFrame\n",
    "df = pd.DataFrame(data)\n",
    "\n",
    "# Save to CSV\n",
    "df.to_csv('Patients.csv', index=False)\n",
    "\n",
    "print(\"Fake data generated and saved to 'patients_data_1000.csv'\")\n"
   ]
  },
  {
   "cell_type": "code",
   "execution_count": 5,
   "id": "e59636d5-410b-48e7-8081-66930262ead3",
   "metadata": {
    "tags": []
   },
   "outputs": [
    {
     "name": "stdout",
     "output_type": "stream",
     "text": [
      "Fake data generated and saved to 'patients_data_1000.csv'\n"
     ]
    }
   ],
   "source": [
    "from faker import Faker\n",
    "import pandas as pd\n",
    "import random\n",
    "\n",
    "# Initialize the Faker object\n",
    "fake = Faker()\n",
    "\n",
    "# Define age categories\n",
    "age_categories = {\n",
    "    'Child': (0, 12),\n",
    "    'Young': (13, 35),\n",
    "    'Middle-aged': (36, 55),\n",
    "    'Old': (56, 90)\n",
    "}\n",
    "\n",
    "# Define unique TPA names\n",
    "tpa_names = [\n",
    "    'HealthPlus TPA', 'MediAssist TPA', 'StarHealth TPA', 'MaxBupa TPA', 'FutureGenerali TPA',\n",
    "    'Religare TPA', 'Apollo Munich TPA', 'Bajaj Allianz TPA', 'ICICI Lombard TPA', 'HDFC Ergo TPA',\n",
    "    'Cigna TTK TPA', 'Care Health TPA', 'UnitedHealthcare TPA', 'New India Assurance TPA', 'Oriental Insurance TPA'\n",
    "]\n",
    "\n",
    "def get_age_category(age):\n",
    "    if age <= 12:\n",
    "        return 'Child'\n",
    "    elif age <= 35:\n",
    "        return 'Young'\n",
    "    elif age <= 55:\n",
    "        return 'Middle-aged'\n",
    "    else:\n",
    "        return 'Old'\n",
    "\n",
    "# Generate fake data\n",
    "data = []\n",
    "for patient_id in range(1, 1001):  # Generating data for 1000 patients\n",
    "    name = fake.name()\n",
    "    age = random.randint(0, 90)  # Age between 0 and 90\n",
    "    gender = random.choice(['Male', 'Female'])\n",
    "    uhid = fake.uuid4()\n",
    "    phone_number = fake.phone_number()\n",
    "    address = {\n",
    "        'House Number': fake.building_number(),\n",
    "        'City': fake.city(),\n",
    "        'State': fake.state()\n",
    "    }\n",
    "    tpa = random.choice(['Yes', 'No'])\n",
    "    tpa_name = random.choice(tpa_names) if tpa == 'Yes' else 'N/A'\n",
    "    marital_status = random.choice(['Single', 'Married', 'Divorced', 'Widowed'])\n",
    "    age_category = get_age_category(age)\n",
    "\n",
    "    data.append({\n",
    "        'Patient ID': patient_id,\n",
    "        'Name': name,\n",
    "        'Age': age,\n",
    "        'Gender': gender,\n",
    "        'UHID': uhid,\n",
    "        'Phone Number': phone_number,\n",
    "        'House Number': address['House Number'],\n",
    "        'City': address['City'],\n",
    "        'State': address['State'],\n",
    "        'TPA': tpa,\n",
    "        'TPA Name': tpa_name,\n",
    "        'Marital Status': marital_status,\n",
    "        'Age Category': age_category\n",
    "    })\n",
    "\n",
    "# Create a DataFrame\n",
    "df = pd.DataFrame(data)\n",
    "\n",
    "# Save to CSV\n",
    "df.to_csv('patients_data_1000.csv', index=False)\n",
    "\n",
    "print(\"Fake data generated and saved to 'patients_data_1000.csv'\")\n"
   ]
  },
  {
   "cell_type": "code",
   "execution_count": 8,
   "id": "b93dab11-0b57-4099-a286-8b8cd3d58e2f",
   "metadata": {
    "tags": []
   },
   "outputs": [
    {
     "name": "stdout",
     "output_type": "stream",
     "text": [
      "Fake data generated and saved to 'doctors_data_1000.csv'\n"
     ]
    }
   ],
   "source": [
    "from faker import Faker\n",
    "import pandas as pd\n",
    "import random\n",
    "\n",
    "# Initialize the Faker object\n",
    "fake = Faker()\n",
    "\n",
    "# Define specializations and departments\n",
    "specializations = ['Cardiology', 'Neurology', 'Orthopedics', 'Pediatrics', 'Dermatology']\n",
    "departments = ['Cardiology', 'Neurology', 'Orthopedics', 'Pediatrics', 'Dermatology']\n",
    "\n",
    "# Generate fake data\n",
    "data = []\n",
    "for doctor_id in range(1, 1001):  # Generating data for 1000 doctors\n",
    "    doctor_name = fake.name()\n",
    "    specialization = random.choice(specializations)\n",
    "    department = specialization  # Assuming each specialization has a corresponding department\n",
    "    today_patient = random.randint(0, 20)  # Random number of patients for today\n",
    "    next_visit_date = fake.date_this_month(after_today=True)  # Random future date within this month\n",
    "    schedule = f\"{fake.date()} {fake.time()}\"  # Random date and time for schedule\n",
    "    show_appointment = fake.boolean()  # Random boolean value for show appointment\n",
    "\n",
    "    data.append({\n",
    "        'Doctor ID': doctor_id,\n",
    "        'Doctor Name': doctor_name,\n",
    "        'Specialization': specialization,\n",
    "        'Department': department,\n",
    "        'Today Patient': today_patient,\n",
    "        'Next Visit Date': next_visit_date,\n",
    "        'My Schedule': schedule,\n",
    "        'Show Appointment': show_appointment,\n",
    "    })\n",
    "\n",
    "# Create a DataFrame\n",
    "df = pd.DataFrame(data)\n",
    "\n",
    "# Save to CSV\n",
    "df.to_csv('doctors_data_1000.csv', index=False)\n",
    "\n",
    "print(\"Fake data generated and saved to 'doctors_data_1000.csv'\")\n"
   ]
  },
  {
   "cell_type": "code",
   "execution_count": 7,
   "id": "7e460de0-3cbd-4f22-b3bb-d29b9eaac051",
   "metadata": {
    "tags": []
   },
   "outputs": [
    {
     "name": "stdout",
     "output_type": "stream",
     "text": [
      "Fake data generated and saved to 'scheduler_data_1000.csv'\n"
     ]
    }
   ],
   "source": [
    "from faker import Faker\n",
    "import pandas as pd\n",
    "import random\n",
    "\n",
    "# Initialize the Faker object\n",
    "fake = Faker()\n",
    "\n",
    "# Generate fake data for the scheduler\n",
    "scheduler_data = []\n",
    "for _ in range(1000):  # Generating 1000 scheduler entries\n",
    "    uhid = random.randint(100000, 999999)  # Random UHID in integer format\n",
    "    doctor_id = random.randint(1, 1000)  # Random Doctor ID between 1 and 1000\n",
    "    visit_status = random.choice(['Yes', 'No'])  # Random visit status\n",
    "    appointment_date_time = f\"{fake.date()} {fake.time()}\"  # Random date and time for the appointment\n",
    "\n",
    "    scheduler_data.append({\n",
    "        'UHID': uhid,\n",
    "        'Doctor ID': doctor_id,\n",
    "        'Visit Status': visit_status,\n",
    "        'Appointment Date and Time': appointment_date_time\n",
    "    })\n",
    "\n",
    "# Create a DataFrame\n",
    "scheduler_df = pd.DataFrame(scheduler_data)\n",
    "\n",
    "# Save to CSV\n",
    "scheduler_df.to_csv('scheduler_data_1000.csv', index=False)\n",
    "\n",
    "print(\"Fake data generated and saved to 'scheduler_data_1000.csv'\")\n"
   ]
  },
  {
   "cell_type": "code",
   "execution_count": null,
   "id": "c9a73034-dd12-4484-9582-cd17b3bcdb10",
   "metadata": {},
   "outputs": [],
   "source": []
  }
 ],
 "metadata": {
  "kernelspec": {
   "display_name": "Python 3 (ipykernel)",
   "language": "python",
   "name": "python3"
  },
  "language_info": {
   "codemirror_mode": {
    "name": "ipython",
    "version": 3
   },
   "file_extension": ".py",
   "mimetype": "text/x-python",
   "name": "python",
   "nbconvert_exporter": "python",
   "pygments_lexer": "ipython3",
   "version": "3.11.3"
  }
 },
 "nbformat": 4,
 "nbformat_minor": 5
}
