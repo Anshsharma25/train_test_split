{
 "cells": [
  {
   "cell_type": "code",
   "execution_count": 5,
   "id": "1c28deb5-3cfc-4c56-aff9-d764eb0dcf3c",
   "metadata": {
    "tags": []
   },
   "outputs": [
    {
     "name": "stdout",
     "output_type": "stream",
     "text": [
      "Requirement already satisfied: Faker in c:\\python311\\lib\\site-packages (26.0.0)\n",
      "Requirement already satisfied: python-dateutil>=2.4 in c:\\users\\hp\\appdata\\roaming\\python\\python311\\site-packages (from Faker) (2.8.2)\n",
      "Requirement already satisfied: six>=1.5 in c:\\users\\hp\\appdata\\roaming\\python\\python311\\site-packages (from python-dateutil>=2.4->Faker) (1.16.0)\n",
      "Note: you may need to restart the kernel to use updated packages.\n"
     ]
    },
    {
     "name": "stderr",
     "output_type": "stream",
     "text": [
      "\n",
      "[notice] A new release of pip available: 22.3.1 -> 24.1.2\n",
      "[notice] To update, run: C:\\PYTHON311\\python.exe -m pip install --upgrade pip\n"
     ]
    }
   ],
   "source": [
    "pip install Faker \n"
   ]
  },
  {
   "cell_type": "code",
   "execution_count": 6,
   "id": "a599bfd0-a08a-49a8-a6b6-83204f88b566",
   "metadata": {
    "tags": []
   },
   "outputs": [
    {
     "name": "stdout",
     "output_type": "stream",
     "text": [
      "Requirement already satisfied: pandas in c:\\python311\\lib\\site-packages (2.0.1)\n",
      "Requirement already satisfied: faker in c:\\python311\\lib\\site-packages (26.0.0)\n",
      "Requirement already satisfied: openpyxl in c:\\python311\\lib\\site-packages (3.1.2)\n",
      "Requirement already satisfied: python-dateutil>=2.8.2 in c:\\users\\hp\\appdata\\roaming\\python\\python311\\site-packages (from pandas) (2.8.2)\n",
      "Requirement already satisfied: pytz>=2020.1 in c:\\python311\\lib\\site-packages (from pandas) (2023.3)\n",
      "Requirement already satisfied: tzdata>=2022.1 in c:\\python311\\lib\\site-packages (from pandas) (2023.3)\n",
      "Requirement already satisfied: numpy>=1.21.0 in c:\\python311\\lib\\site-packages (from pandas) (1.24.3)\n",
      "Requirement already satisfied: et-xmlfile in c:\\python311\\lib\\site-packages (from openpyxl) (1.1.0)\n",
      "Requirement already satisfied: six>=1.5 in c:\\users\\hp\\appdata\\roaming\\python\\python311\\site-packages (from python-dateutil>=2.8.2->pandas) (1.16.0)\n",
      "Note: you may need to restart the kernel to use updated packages.\n"
     ]
    },
    {
     "name": "stderr",
     "output_type": "stream",
     "text": [
      "\n",
      "[notice] A new release of pip available: 22.3.1 -> 24.1.2\n",
      "[notice] To update, run: C:\\PYTHON311\\python.exe -m pip install --upgrade pip\n"
     ]
    }
   ],
   "source": [
    "pip install pandas faker openpyxl\n"
   ]
  },
  {
   "cell_type": "code",
   "execution_count": 7,
   "id": "ca1024ca-8629-48ba-aa6c-a944c55736e4",
   "metadata": {
    "tags": []
   },
   "outputs": [
    {
     "ename": "ParseError",
     "evalue": "Can't parse date string `2024-01-01`",
     "output_type": "error",
     "traceback": [
      "\u001b[1;31m---------------------------------------------------------------------------\u001b[0m",
      "\u001b[1;31mParseError\u001b[0m                                Traceback (most recent call last)",
      "Cell \u001b[1;32mIn[7], line 17\u001b[0m\n\u001b[0;32m     11\u001b[0m \u001b[38;5;66;03m# Generate 2000 records\u001b[39;00m\n\u001b[0;32m     12\u001b[0m \u001b[38;5;28;01mfor\u001b[39;00m _ \u001b[38;5;129;01min\u001b[39;00m \u001b[38;5;28mrange\u001b[39m(\u001b[38;5;241m2000\u001b[39m):\n\u001b[0;32m     13\u001b[0m     booking \u001b[38;5;241m=\u001b[39m {\n\u001b[0;32m     14\u001b[0m         \u001b[38;5;124m\"\u001b[39m\u001b[38;5;124mbooking_id\u001b[39m\u001b[38;5;124m\"\u001b[39m: fake\u001b[38;5;241m.\u001b[39munique\u001b[38;5;241m.\u001b[39mrandom_int(\u001b[38;5;28mmin\u001b[39m\u001b[38;5;241m=\u001b[39m\u001b[38;5;241m1\u001b[39m, \u001b[38;5;28mmax\u001b[39m\u001b[38;5;241m=\u001b[39m\u001b[38;5;241m3000\u001b[39m),\n\u001b[0;32m     15\u001b[0m         \u001b[38;5;124m\"\u001b[39m\u001b[38;5;124mcustomer_name\u001b[39m\u001b[38;5;124m\"\u001b[39m: fake\u001b[38;5;241m.\u001b[39mname(),\n\u001b[0;32m     16\u001b[0m         \u001b[38;5;124m\"\u001b[39m\u001b[38;5;124mdestination\u001b[39m\u001b[38;5;124m\"\u001b[39m: random\u001b[38;5;241m.\u001b[39mchoice([\u001b[38;5;124m\"\u001b[39m\u001b[38;5;124mBali\u001b[39m\u001b[38;5;124m\"\u001b[39m, \u001b[38;5;124m\"\u001b[39m\u001b[38;5;124mParis\u001b[39m\u001b[38;5;124m\"\u001b[39m, \u001b[38;5;124m\"\u001b[39m\u001b[38;5;124mNew York\u001b[39m\u001b[38;5;124m\"\u001b[39m, \u001b[38;5;124m\"\u001b[39m\u001b[38;5;124mTokyo\u001b[39m\u001b[38;5;124m\"\u001b[39m, \u001b[38;5;124m\"\u001b[39m\u001b[38;5;124mLondon\u001b[39m\u001b[38;5;124m\"\u001b[39m, \u001b[38;5;124m\"\u001b[39m\u001b[38;5;124mSydney\u001b[39m\u001b[38;5;124m\"\u001b[39m, \u001b[38;5;124m\"\u001b[39m\u001b[38;5;124mDubai\u001b[39m\u001b[38;5;124m\"\u001b[39m, \u001b[38;5;124m\"\u001b[39m\u001b[38;5;124mBangkok\u001b[39m\u001b[38;5;124m\"\u001b[39m, \u001b[38;5;124m\"\u001b[39m\u001b[38;5;124mCancun\u001b[39m\u001b[38;5;124m\"\u001b[39m]),\n\u001b[1;32m---> 17\u001b[0m         \u001b[38;5;124m\"\u001b[39m\u001b[38;5;124mtravel_date\u001b[39m\u001b[38;5;124m\"\u001b[39m: \u001b[43mfake\u001b[49m\u001b[38;5;241;43m.\u001b[39;49m\u001b[43mdate_between\u001b[49m\u001b[43m(\u001b[49m\u001b[43mstart_date\u001b[49m\u001b[38;5;241;43m=\u001b[39;49m\u001b[38;5;124;43m'\u001b[39;49m\u001b[38;5;124;43m2024-01-01\u001b[39;49m\u001b[38;5;124;43m'\u001b[39;49m\u001b[43m,\u001b[49m\u001b[43m \u001b[49m\u001b[43mend_date\u001b[49m\u001b[38;5;241;43m=\u001b[39;49m\u001b[38;5;124;43m'\u001b[39;49m\u001b[38;5;124;43m2024-12-31\u001b[39;49m\u001b[38;5;124;43m'\u001b[39;49m\u001b[43m)\u001b[49m,\n\u001b[0;32m     18\u001b[0m         \u001b[38;5;124m\"\u001b[39m\u001b[38;5;124mreturn_date\u001b[39m\u001b[38;5;124m\"\u001b[39m: fake\u001b[38;5;241m.\u001b[39mdate_between(start_date\u001b[38;5;241m=\u001b[39m\u001b[38;5;124m'\u001b[39m\u001b[38;5;124m2024-01-01\u001b[39m\u001b[38;5;124m'\u001b[39m, end_date\u001b[38;5;241m=\u001b[39m\u001b[38;5;124m'\u001b[39m\u001b[38;5;124m2024-12-31\u001b[39m\u001b[38;5;124m'\u001b[39m),\n\u001b[0;32m     19\u001b[0m         \u001b[38;5;124m\"\u001b[39m\u001b[38;5;124mprice\u001b[39m\u001b[38;5;124m\"\u001b[39m: fake\u001b[38;5;241m.\u001b[39mrandom_int(\u001b[38;5;28mmin\u001b[39m\u001b[38;5;241m=\u001b[39m\u001b[38;5;241m500\u001b[39m, \u001b[38;5;28mmax\u001b[39m\u001b[38;5;241m=\u001b[39m\u001b[38;5;241m3000\u001b[39m),\n\u001b[0;32m     20\u001b[0m         \u001b[38;5;124m\"\u001b[39m\u001b[38;5;124mbooking_status\u001b[39m\u001b[38;5;124m\"\u001b[39m: random\u001b[38;5;241m.\u001b[39mchoice([\u001b[38;5;124m\"\u001b[39m\u001b[38;5;124mConfirmed\u001b[39m\u001b[38;5;124m\"\u001b[39m, \u001b[38;5;124m\"\u001b[39m\u001b[38;5;124mPending\u001b[39m\u001b[38;5;124m\"\u001b[39m, \u001b[38;5;124m\"\u001b[39m\u001b[38;5;124mCancelled\u001b[39m\u001b[38;5;124m\"\u001b[39m])\n\u001b[0;32m     21\u001b[0m     }\n\u001b[0;32m     22\u001b[0m     data\u001b[38;5;241m.\u001b[39mappend(booking)\n\u001b[0;32m     24\u001b[0m \u001b[38;5;66;03m# Create DataFrame\u001b[39;00m\n",
      "File \u001b[1;32mC:\\PYTHON311\\Lib\\site-packages\\faker\\providers\\date_time\\__init__.py:2071\u001b[0m, in \u001b[0;36mProvider.date_between\u001b[1;34m(self, start_date, end_date)\u001b[0m\n\u001b[0;32m   2060\u001b[0m \u001b[38;5;28;01mdef\u001b[39;00m \u001b[38;5;21mdate_between\u001b[39m(\u001b[38;5;28mself\u001b[39m, start_date: DateParseType \u001b[38;5;241m=\u001b[39m \u001b[38;5;124m\"\u001b[39m\u001b[38;5;124m-30y\u001b[39m\u001b[38;5;124m\"\u001b[39m, end_date: DateParseType \u001b[38;5;241m=\u001b[39m \u001b[38;5;124m\"\u001b[39m\u001b[38;5;124mtoday\u001b[39m\u001b[38;5;124m\"\u001b[39m) \u001b[38;5;241m-\u001b[39m\u001b[38;5;241m>\u001b[39m dtdate:\n\u001b[0;32m   2061\u001b[0m \u001b[38;5;250m    \u001b[39m\u001b[38;5;124;03m\"\"\"\u001b[39;00m\n\u001b[0;32m   2062\u001b[0m \u001b[38;5;124;03m    Get a Date object based on a random date between two given dates.\u001b[39;00m\n\u001b[0;32m   2063\u001b[0m \u001b[38;5;124;03m    Accepts date strings that can be recognized by strtotime().\u001b[39;00m\n\u001b[1;32m   (...)\u001b[0m\n\u001b[0;32m   2068\u001b[0m \u001b[38;5;124;03m    :return: Date\u001b[39;00m\n\u001b[0;32m   2069\u001b[0m \u001b[38;5;124;03m    \"\"\"\u001b[39;00m\n\u001b[1;32m-> 2071\u001b[0m     start_date \u001b[38;5;241m=\u001b[39m \u001b[38;5;28;43mself\u001b[39;49m\u001b[38;5;241;43m.\u001b[39;49m\u001b[43m_parse_date\u001b[49m\u001b[43m(\u001b[49m\u001b[43mstart_date\u001b[49m\u001b[43m)\u001b[49m\n\u001b[0;32m   2072\u001b[0m     end_date \u001b[38;5;241m=\u001b[39m \u001b[38;5;28mself\u001b[39m\u001b[38;5;241m.\u001b[39m_parse_date(end_date)\n\u001b[0;32m   2073\u001b[0m     \u001b[38;5;28;01mreturn\u001b[39;00m \u001b[38;5;28mself\u001b[39m\u001b[38;5;241m.\u001b[39mdate_between_dates(date_start\u001b[38;5;241m=\u001b[39mstart_date, date_end\u001b[38;5;241m=\u001b[39mend_date)\n",
      "File \u001b[1;32mC:\\PYTHON311\\Lib\\site-packages\\faker\\providers\\date_time\\__init__.py:2027\u001b[0m, in \u001b[0;36mProvider._parse_date\u001b[1;34m(cls, value)\u001b[0m\n\u001b[0;32m   2025\u001b[0m     \u001b[38;5;28;01mif\u001b[39;00m value \u001b[38;5;129;01min\u001b[39;00m (\u001b[38;5;124m\"\u001b[39m\u001b[38;5;124mtoday\u001b[39m\u001b[38;5;124m\"\u001b[39m, \u001b[38;5;124m\"\u001b[39m\u001b[38;5;124mnow\u001b[39m\u001b[38;5;124m\"\u001b[39m):\n\u001b[0;32m   2026\u001b[0m         \u001b[38;5;28;01mreturn\u001b[39;00m today\n\u001b[1;32m-> 2027\u001b[0m     time_params \u001b[38;5;241m=\u001b[39m \u001b[38;5;28;43mcls\u001b[39;49m\u001b[38;5;241;43m.\u001b[39;49m\u001b[43m_parse_date_string\u001b[49m\u001b[43m(\u001b[49m\u001b[43mvalue\u001b[49m\u001b[43m)\u001b[49m\n\u001b[0;32m   2028\u001b[0m     \u001b[38;5;28;01mreturn\u001b[39;00m today \u001b[38;5;241m+\u001b[39m timedelta(\u001b[38;5;241m*\u001b[39m\u001b[38;5;241m*\u001b[39mtime_params)  \u001b[38;5;66;03m# type: ignore\u001b[39;00m\n\u001b[0;32m   2029\u001b[0m \u001b[38;5;28;01mif\u001b[39;00m \u001b[38;5;28misinstance\u001b[39m(value, \u001b[38;5;28mint\u001b[39m):\n",
      "File \u001b[1;32mC:\\PYTHON311\\Lib\\site-packages\\faker\\providers\\date_time\\__init__.py:1985\u001b[0m, in \u001b[0;36mProvider._parse_date_string\u001b[1;34m(cls, value)\u001b[0m\n\u001b[0;32m   1982\u001b[0m     time_params[\u001b[38;5;124m\"\u001b[39m\u001b[38;5;124mdays\u001b[39m\u001b[38;5;124m\"\u001b[39m] \u001b[38;5;241m+\u001b[39m\u001b[38;5;241m=\u001b[39m \u001b[38;5;241m30.42\u001b[39m \u001b[38;5;241m*\u001b[39m time_params\u001b[38;5;241m.\u001b[39mpop(\u001b[38;5;124m\"\u001b[39m\u001b[38;5;124mmonths\u001b[39m\u001b[38;5;124m\"\u001b[39m)\n\u001b[0;32m   1984\u001b[0m \u001b[38;5;28;01mif\u001b[39;00m \u001b[38;5;129;01mnot\u001b[39;00m time_params:\n\u001b[1;32m-> 1985\u001b[0m     \u001b[38;5;28;01mraise\u001b[39;00m ParseError(\u001b[38;5;124mf\u001b[39m\u001b[38;5;124m\"\u001b[39m\u001b[38;5;124mCan\u001b[39m\u001b[38;5;124m'\u001b[39m\u001b[38;5;124mt parse date string `\u001b[39m\u001b[38;5;132;01m{\u001b[39;00mvalue\u001b[38;5;132;01m}\u001b[39;00m\u001b[38;5;124m`\u001b[39m\u001b[38;5;124m\"\u001b[39m)\n\u001b[0;32m   1986\u001b[0m \u001b[38;5;28;01mreturn\u001b[39;00m time_params\n",
      "\u001b[1;31mParseError\u001b[0m: Can't parse date string `2024-01-01`"
     ]
    }
   ],
   "source": [
    "from faker import Faker\n",
    "import pandas as pd\n",
    "import random\n",
    "\n",
    "# Initialize Faker\n",
    "fake = Faker()\n",
    "\n",
    "# Create an empty list to store data\n",
    "data = []\n",
    "\n",
    "# Generate 2000 records\n",
    "for _ in range(2000):\n",
    "    booking = {\n",
    "        \"booking_id\": fake.unique.random_int(min=1, max=3000),\n",
    "        \"customer_name\": fake.name(),\n",
    "        \"destination\": random.choice([\"Bali\", \"Paris\", \"New York\", \"Tokyo\", \"London\", \"Sydney\", \"Dubai\", \"Bangkok\", \"Cancun\"]),\n",
    "        \"travel_date\": fake.date_between(start_date='2024-01-01', end_date='2024-12-31'),\n",
    "        \"return_date\": fake.date_between(start_date='2024-01-01', end_date='2024-12-31'),\n",
    "        \"price\": fake.random_int(min=500, max=3000),\n",
    "        \"booking_status\": random.choice([\"Confirmed\", \"Pending\", \"Cancelled\"])\n",
    "    }\n",
    "    data.append(booking)\n",
    "\n",
    "# Create DataFrame\n",
    "df = pd.DataFrame(data)\n",
    "\n",
    "# Save to Excel\n",
    "df.to_excel('Dummy_Travel_Dataset.xlsx', index=False)\n"
   ]
  },
  {
   "cell_type": "code",
   "execution_count": 10,
   "id": "3c9fb203-e4c2-4b92-9525-cdf3832024f0",
   "metadata": {
    "tags": []
   },
   "outputs": [],
   "source": [
    "from faker import Faker\n",
    "import pandas as pd\n",
    "import random\n",
    "from datetime import datetime\n",
    "\n",
    "# Initialize Faker\n",
    "fake = Faker()\n",
    "\n",
    "# Create an empty list to store data\n",
    "data = []\n",
    "\n",
    "# Define start and end dates as datetime.date objects\n",
    "start_date = datetime.strptime('2024-01-01', '%Y-%m-%d').date()\n",
    "end_date = datetime.strptime('2024-12-31', '%Y-%m-%d').date()\n",
    "\n",
    "# Generate 2000 records\n",
    "for _ in range(2000):\n",
    "    travel_date = fake.date_between(start_date=start_date, end_date=end_date)\n",
    "    return_date = fake.date_between(start_date=travel_date, end_date=end_date)\n",
    "    \n",
    "    booking = {\n",
    "        \"booking_id\": fake.unique.random_int(min=1, max=3000),\n",
    "        \"customer_name\": fake.name(),\n",
    "        \"destination\": random.choice([\"Bali\", \"Paris\", \"New York\", \"Tokyo\", \"London\", \"Sydney\", \"Dubai\", \"Bangkok\", \"Cancun\"]),\n",
    "        \"travel_date\": travel_date.strftime('%d-%m-%Y'),  # Change date format to dd-mm-yyyy\n",
    "        \"return_date\": return_date.strftime('%d-%m-%Y'),  # Change date format to dd-mm-yyyy\n",
    "        \"price\": fake.random_int(min=500, max=3000),\n",
    "        \"booking_status\": random.choice([\"Confirmed\", \"Pending\", \"Cancelled\"])\n",
    "    }\n",
    "    data.append(booking)\n",
    "\n",
    "# Create DataFrame\n",
    "df = pd.DataFrame(data)\n",
    "\n",
    "# Save to Excel\n",
    "df.to_excel('Dummy_Travel_Dataset.xlsx', index=False)\n"
   ]
  },
  {
   "cell_type": "code",
   "execution_count": 1,
   "id": "a77d4fef-fdc2-4f2c-81b4-7c06274022db",
   "metadata": {},
   "outputs": [],
   "source": [
    "import pandas as pd\n",
    "import numpy as np\n",
    "from faker import Faker\n",
    "\n",
    "fake = Faker()\n",
    "\n",
    "# Number of records to generate\n",
    "num_records = 1000\n",
    "\n",
    "# Generate sample data\n",
    "data = {\n",
    "    'Booking_ID': [f'BK{str(i).zfill(5)}' for i in range(1, num_records + 1)],\n",
    "    'Customer_ID': [f'CUST{str(i).zfill(5)}' for i in range(1, num_records + 1)],\n",
    "    'Customer_Name': [fake.name() for _ in range(num_records)],\n",
    "    'Email': [fake.email() for _ in range(num_records)],\n",
    "    'Phone_Number': [fake.phone_number() for _ in range(num_records)],\n",
    "    'Tour_Package': [fake.word() for _ in range(num_records)],\n",
    "    'Tour_Package_ID': [f'TOUR{str(i).zfill(5)}' for i in np.random.randint(1, 50, num_records)],\n",
    "    'Booking_Date': [fake.date_between(start_date='-2y', end_date='today') for _ in range(num_records)],\n",
    "    'Tour_Date': [fake.date_between(start_date='today', end_date='+2y') for _ in range(num_records)],\n",
    "    'Number_of_Passengers': np.random.randint(1, 5, num_records),\n",
    "    'Total_Cost': np.random.uniform(1000, 5000, num_records).round(2),\n",
    "    'Payment_Status': np.random.choice(['Paid', 'Pending', 'Cancelled'], num_records),\n",
    "    'Tour_Guide': [fake.name() for _ in range(num_records)],\n",
    "    'Destination': [fake.city() for _ in range(num_records)],\n",
    "    'Hotel': [fake.company() for _ in range(num_records)],\n",
    "    'Flight_Details': [f'Flight {fake.company()} - {fake.word()}' for _ in range(num_records)],\n",
    "}\n",
    "\n",
    "# Create DataFrame\n",
    "df = pd.DataFrame(data)\n",
    "\n",
    "# Save to CSV\n",
    "df.to_csv('sample_tour_travel_data.csv', index=False)"
   ]
  },
  {
   "cell_type": "code",
   "execution_count": null,
   "id": "61bd406a-e89d-4121-8f94-ddd936302f15",
   "metadata": {},
   "outputs": [],
   "source": []
  }
 ],
 "metadata": {
  "kernelspec": {
   "display_name": "Python 3 (ipykernel)",
   "language": "python",
   "name": "python3"
  },
  "language_info": {
   "codemirror_mode": {
    "name": "ipython",
    "version": 3
   },
   "file_extension": ".py",
   "mimetype": "text/x-python",
   "name": "python",
   "nbconvert_exporter": "python",
   "pygments_lexer": "ipython3",
   "version": "3.11.3"
  }
 },
 "nbformat": 4,
 "nbformat_minor": 5
}
